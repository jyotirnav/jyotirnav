{
 "cells": [
  {
   "cell_type": "code",
   "execution_count": 1,
   "metadata": {},
   "outputs": [],
   "source": [
    "import numpy as np\n",
    "import pandas as pd\n",
    "import matplotlib.pyplot as plt\n",
    "import seaborn as sns\n"
   ]
  },
  {
   "cell_type": "code",
   "execution_count": 2,
   "metadata": {},
   "outputs": [],
   "source": [
    "df=pd.read_csv(\"C:/Users/JYOTIR/OneDrive/Desktop/dataset/coursea_data.csv\")"
   ]
  },
  {
   "cell_type": "code",
   "execution_count": 3,
   "metadata": {},
   "outputs": [
    {
     "data": {
      "text/html": [
       "<div>\n",
       "<style scoped>\n",
       "    .dataframe tbody tr th:only-of-type {\n",
       "        vertical-align: middle;\n",
       "    }\n",
       "\n",
       "    .dataframe tbody tr th {\n",
       "        vertical-align: top;\n",
       "    }\n",
       "\n",
       "    .dataframe thead th {\n",
       "        text-align: right;\n",
       "    }\n",
       "</style>\n",
       "<table border=\"1\" class=\"dataframe\">\n",
       "  <thead>\n",
       "    <tr style=\"text-align: right;\">\n",
       "      <th></th>\n",
       "      <th>Unnamed: 0</th>\n",
       "      <th>course_title</th>\n",
       "      <th>course_organization</th>\n",
       "      <th>course_Certificate_type</th>\n",
       "      <th>course_rating</th>\n",
       "      <th>course_difficulty</th>\n",
       "      <th>course_students_enrolled</th>\n",
       "    </tr>\n",
       "  </thead>\n",
       "  <tbody>\n",
       "    <tr>\n",
       "      <th>0</th>\n",
       "      <td>134</td>\n",
       "      <td>(ISC)² Systems Security Certified Practitioner...</td>\n",
       "      <td>(ISC)²</td>\n",
       "      <td>SPECIALIZATION</td>\n",
       "      <td>4.7</td>\n",
       "      <td>Beginner</td>\n",
       "      <td>5.3k</td>\n",
       "    </tr>\n",
       "    <tr>\n",
       "      <th>1</th>\n",
       "      <td>743</td>\n",
       "      <td>A Crash Course in Causality:  Inferring Causal...</td>\n",
       "      <td>University of Pennsylvania</td>\n",
       "      <td>COURSE</td>\n",
       "      <td>4.7</td>\n",
       "      <td>Intermediate</td>\n",
       "      <td>17k</td>\n",
       "    </tr>\n",
       "    <tr>\n",
       "      <th>2</th>\n",
       "      <td>874</td>\n",
       "      <td>A Crash Course in Data Science</td>\n",
       "      <td>Johns Hopkins University</td>\n",
       "      <td>COURSE</td>\n",
       "      <td>4.5</td>\n",
       "      <td>Mixed</td>\n",
       "      <td>130k</td>\n",
       "    </tr>\n",
       "    <tr>\n",
       "      <th>3</th>\n",
       "      <td>413</td>\n",
       "      <td>A Law Student's Toolkit</td>\n",
       "      <td>Yale University</td>\n",
       "      <td>COURSE</td>\n",
       "      <td>4.7</td>\n",
       "      <td>Mixed</td>\n",
       "      <td>91k</td>\n",
       "    </tr>\n",
       "    <tr>\n",
       "      <th>4</th>\n",
       "      <td>635</td>\n",
       "      <td>A Life of Happiness and Fulfillment</td>\n",
       "      <td>Indian School of Business</td>\n",
       "      <td>COURSE</td>\n",
       "      <td>4.8</td>\n",
       "      <td>Mixed</td>\n",
       "      <td>320k</td>\n",
       "    </tr>\n",
       "  </tbody>\n",
       "</table>\n",
       "</div>"
      ],
      "text/plain": [
       "   Unnamed: 0                                       course_title  \\\n",
       "0         134  (ISC)² Systems Security Certified Practitioner...   \n",
       "1         743  A Crash Course in Causality:  Inferring Causal...   \n",
       "2         874                     A Crash Course in Data Science   \n",
       "3         413                            A Law Student's Toolkit   \n",
       "4         635                A Life of Happiness and Fulfillment   \n",
       "\n",
       "          course_organization course_Certificate_type  course_rating  \\\n",
       "0                      (ISC)²          SPECIALIZATION            4.7   \n",
       "1  University of Pennsylvania                  COURSE            4.7   \n",
       "2    Johns Hopkins University                  COURSE            4.5   \n",
       "3             Yale University                  COURSE            4.7   \n",
       "4   Indian School of Business                  COURSE            4.8   \n",
       "\n",
       "  course_difficulty course_students_enrolled  \n",
       "0          Beginner                     5.3k  \n",
       "1      Intermediate                      17k  \n",
       "2             Mixed                     130k  \n",
       "3             Mixed                      91k  \n",
       "4             Mixed                     320k  "
      ]
     },
     "execution_count": 3,
     "metadata": {},
     "output_type": "execute_result"
    }
   ],
   "source": [
    "df.head()"
   ]
  },
  {
   "cell_type": "code",
   "execution_count": 4,
   "metadata": {},
   "outputs": [],
   "source": [
    "df=df.drop(['Unnamed: 0'],axis=1)"
   ]
  },
  {
   "cell_type": "code",
   "execution_count": 5,
   "metadata": {},
   "outputs": [
    {
     "data": {
      "text/html": [
       "<div>\n",
       "<style scoped>\n",
       "    .dataframe tbody tr th:only-of-type {\n",
       "        vertical-align: middle;\n",
       "    }\n",
       "\n",
       "    .dataframe tbody tr th {\n",
       "        vertical-align: top;\n",
       "    }\n",
       "\n",
       "    .dataframe thead th {\n",
       "        text-align: right;\n",
       "    }\n",
       "</style>\n",
       "<table border=\"1\" class=\"dataframe\">\n",
       "  <thead>\n",
       "    <tr style=\"text-align: right;\">\n",
       "      <th></th>\n",
       "      <th>course_title</th>\n",
       "      <th>course_organization</th>\n",
       "      <th>course_Certificate_type</th>\n",
       "      <th>course_rating</th>\n",
       "      <th>course_difficulty</th>\n",
       "      <th>course_students_enrolled</th>\n",
       "    </tr>\n",
       "  </thead>\n",
       "  <tbody>\n",
       "    <tr>\n",
       "      <th>0</th>\n",
       "      <td>(ISC)² Systems Security Certified Practitioner...</td>\n",
       "      <td>(ISC)²</td>\n",
       "      <td>SPECIALIZATION</td>\n",
       "      <td>4.7</td>\n",
       "      <td>Beginner</td>\n",
       "      <td>5.3k</td>\n",
       "    </tr>\n",
       "    <tr>\n",
       "      <th>1</th>\n",
       "      <td>A Crash Course in Causality:  Inferring Causal...</td>\n",
       "      <td>University of Pennsylvania</td>\n",
       "      <td>COURSE</td>\n",
       "      <td>4.7</td>\n",
       "      <td>Intermediate</td>\n",
       "      <td>17k</td>\n",
       "    </tr>\n",
       "    <tr>\n",
       "      <th>2</th>\n",
       "      <td>A Crash Course in Data Science</td>\n",
       "      <td>Johns Hopkins University</td>\n",
       "      <td>COURSE</td>\n",
       "      <td>4.5</td>\n",
       "      <td>Mixed</td>\n",
       "      <td>130k</td>\n",
       "    </tr>\n",
       "    <tr>\n",
       "      <th>3</th>\n",
       "      <td>A Law Student's Toolkit</td>\n",
       "      <td>Yale University</td>\n",
       "      <td>COURSE</td>\n",
       "      <td>4.7</td>\n",
       "      <td>Mixed</td>\n",
       "      <td>91k</td>\n",
       "    </tr>\n",
       "    <tr>\n",
       "      <th>4</th>\n",
       "      <td>A Life of Happiness and Fulfillment</td>\n",
       "      <td>Indian School of Business</td>\n",
       "      <td>COURSE</td>\n",
       "      <td>4.8</td>\n",
       "      <td>Mixed</td>\n",
       "      <td>320k</td>\n",
       "    </tr>\n",
       "  </tbody>\n",
       "</table>\n",
       "</div>"
      ],
      "text/plain": [
       "                                        course_title  \\\n",
       "0  (ISC)² Systems Security Certified Practitioner...   \n",
       "1  A Crash Course in Causality:  Inferring Causal...   \n",
       "2                     A Crash Course in Data Science   \n",
       "3                            A Law Student's Toolkit   \n",
       "4                A Life of Happiness and Fulfillment   \n",
       "\n",
       "          course_organization course_Certificate_type  course_rating  \\\n",
       "0                      (ISC)²          SPECIALIZATION            4.7   \n",
       "1  University of Pennsylvania                  COURSE            4.7   \n",
       "2    Johns Hopkins University                  COURSE            4.5   \n",
       "3             Yale University                  COURSE            4.7   \n",
       "4   Indian School of Business                  COURSE            4.8   \n",
       "\n",
       "  course_difficulty course_students_enrolled  \n",
       "0          Beginner                     5.3k  \n",
       "1      Intermediate                      17k  \n",
       "2             Mixed                     130k  \n",
       "3             Mixed                      91k  \n",
       "4             Mixed                     320k  "
      ]
     },
     "execution_count": 5,
     "metadata": {},
     "output_type": "execute_result"
    }
   ],
   "source": [
    "df.head()"
   ]
  },
  {
   "cell_type": "code",
   "execution_count": 6,
   "metadata": {},
   "outputs": [
    {
     "name": "stdout",
     "output_type": "stream",
     "text": [
      "<class 'pandas.core.frame.DataFrame'>\n",
      "RangeIndex: 891 entries, 0 to 890\n",
      "Data columns (total 6 columns):\n",
      " #   Column                    Non-Null Count  Dtype  \n",
      "---  ------                    --------------  -----  \n",
      " 0   course_title              891 non-null    object \n",
      " 1   course_organization       891 non-null    object \n",
      " 2   course_Certificate_type   891 non-null    object \n",
      " 3   course_rating             891 non-null    float64\n",
      " 4   course_difficulty         891 non-null    object \n",
      " 5   course_students_enrolled  891 non-null    object \n",
      "dtypes: float64(1), object(5)\n",
      "memory usage: 41.9+ KB\n"
     ]
    }
   ],
   "source": [
    "df.info()"
   ]
  },
  {
   "cell_type": "code",
   "execution_count": 7,
   "metadata": {},
   "outputs": [
    {
     "data": {
      "text/html": [
       "<div>\n",
       "<style scoped>\n",
       "    .dataframe tbody tr th:only-of-type {\n",
       "        vertical-align: middle;\n",
       "    }\n",
       "\n",
       "    .dataframe tbody tr th {\n",
       "        vertical-align: top;\n",
       "    }\n",
       "\n",
       "    .dataframe thead th {\n",
       "        text-align: right;\n",
       "    }\n",
       "</style>\n",
       "<table border=\"1\" class=\"dataframe\">\n",
       "  <thead>\n",
       "    <tr style=\"text-align: right;\">\n",
       "      <th></th>\n",
       "      <th>course_rating</th>\n",
       "    </tr>\n",
       "  </thead>\n",
       "  <tbody>\n",
       "    <tr>\n",
       "      <th>count</th>\n",
       "      <td>891.000000</td>\n",
       "    </tr>\n",
       "    <tr>\n",
       "      <th>mean</th>\n",
       "      <td>4.677329</td>\n",
       "    </tr>\n",
       "    <tr>\n",
       "      <th>std</th>\n",
       "      <td>0.162225</td>\n",
       "    </tr>\n",
       "    <tr>\n",
       "      <th>min</th>\n",
       "      <td>3.300000</td>\n",
       "    </tr>\n",
       "    <tr>\n",
       "      <th>25%</th>\n",
       "      <td>4.600000</td>\n",
       "    </tr>\n",
       "    <tr>\n",
       "      <th>50%</th>\n",
       "      <td>4.700000</td>\n",
       "    </tr>\n",
       "    <tr>\n",
       "      <th>75%</th>\n",
       "      <td>4.800000</td>\n",
       "    </tr>\n",
       "    <tr>\n",
       "      <th>max</th>\n",
       "      <td>5.000000</td>\n",
       "    </tr>\n",
       "  </tbody>\n",
       "</table>\n",
       "</div>"
      ],
      "text/plain": [
       "       course_rating\n",
       "count     891.000000\n",
       "mean        4.677329\n",
       "std         0.162225\n",
       "min         3.300000\n",
       "25%         4.600000\n",
       "50%         4.700000\n",
       "75%         4.800000\n",
       "max         5.000000"
      ]
     },
     "execution_count": 7,
     "metadata": {},
     "output_type": "execute_result"
    }
   ],
   "source": [
    "df.describe()"
   ]
  },
  {
   "cell_type": "code",
   "execution_count": 8,
   "metadata": {},
   "outputs": [
    {
     "data": {
      "text/plain": [
       "Index(['course_title', 'course_organization', 'course_Certificate_type',\n",
       "       'course_rating', 'course_difficulty', 'course_students_enrolled'],\n",
       "      dtype='object')"
      ]
     },
     "execution_count": 8,
     "metadata": {},
     "output_type": "execute_result"
    }
   ],
   "source": [
    "df.columns"
   ]
  },
  {
   "cell_type": "code",
   "execution_count": 9,
   "metadata": {},
   "outputs": [
    {
     "data": {
      "text/plain": [
       "course_title                0\n",
       "course_organization         0\n",
       "course_Certificate_type     0\n",
       "course_rating               0\n",
       "course_difficulty           0\n",
       "course_students_enrolled    0\n",
       "dtype: int64"
      ]
     },
     "execution_count": 9,
     "metadata": {},
     "output_type": "execute_result"
    }
   ],
   "source": [
    "df.isnull().sum()"
   ]
  },
  {
   "cell_type": "code",
   "execution_count": 10,
   "metadata": {},
   "outputs": [
    {
     "data": {
      "text/html": [
       "<div>\n",
       "<style scoped>\n",
       "    .dataframe tbody tr th:only-of-type {\n",
       "        vertical-align: middle;\n",
       "    }\n",
       "\n",
       "    .dataframe tbody tr th {\n",
       "        vertical-align: top;\n",
       "    }\n",
       "\n",
       "    .dataframe thead th {\n",
       "        text-align: right;\n",
       "    }\n",
       "</style>\n",
       "<table border=\"1\" class=\"dataframe\">\n",
       "  <thead>\n",
       "    <tr style=\"text-align: right;\">\n",
       "      <th></th>\n",
       "      <th>course_title</th>\n",
       "      <th>course_organization</th>\n",
       "      <th>course_Certificate_type</th>\n",
       "      <th>course_rating</th>\n",
       "      <th>course_difficulty</th>\n",
       "      <th>course_students_enrolled</th>\n",
       "    </tr>\n",
       "  </thead>\n",
       "  <tbody>\n",
       "    <tr>\n",
       "      <th>0</th>\n",
       "      <td>(ISC)² Systems Security Certified Practitioner...</td>\n",
       "      <td>(ISC)²</td>\n",
       "      <td>SPECIALIZATION</td>\n",
       "      <td>4.7</td>\n",
       "      <td>Beginner</td>\n",
       "      <td>5.3k</td>\n",
       "    </tr>\n",
       "    <tr>\n",
       "      <th>1</th>\n",
       "      <td>A Crash Course in Causality:  Inferring Causal...</td>\n",
       "      <td>University of Pennsylvania</td>\n",
       "      <td>COURSE</td>\n",
       "      <td>4.7</td>\n",
       "      <td>Intermediate</td>\n",
       "      <td>17k</td>\n",
       "    </tr>\n",
       "    <tr>\n",
       "      <th>2</th>\n",
       "      <td>A Crash Course in Data Science</td>\n",
       "      <td>Johns Hopkins University</td>\n",
       "      <td>COURSE</td>\n",
       "      <td>4.5</td>\n",
       "      <td>Mixed</td>\n",
       "      <td>130k</td>\n",
       "    </tr>\n",
       "    <tr>\n",
       "      <th>3</th>\n",
       "      <td>A Law Student's Toolkit</td>\n",
       "      <td>Yale University</td>\n",
       "      <td>COURSE</td>\n",
       "      <td>4.7</td>\n",
       "      <td>Mixed</td>\n",
       "      <td>91k</td>\n",
       "    </tr>\n",
       "    <tr>\n",
       "      <th>4</th>\n",
       "      <td>A Life of Happiness and Fulfillment</td>\n",
       "      <td>Indian School of Business</td>\n",
       "      <td>COURSE</td>\n",
       "      <td>4.8</td>\n",
       "      <td>Mixed</td>\n",
       "      <td>320k</td>\n",
       "    </tr>\n",
       "  </tbody>\n",
       "</table>\n",
       "</div>"
      ],
      "text/plain": [
       "                                        course_title  \\\n",
       "0  (ISC)² Systems Security Certified Practitioner...   \n",
       "1  A Crash Course in Causality:  Inferring Causal...   \n",
       "2                     A Crash Course in Data Science   \n",
       "3                            A Law Student's Toolkit   \n",
       "4                A Life of Happiness and Fulfillment   \n",
       "\n",
       "          course_organization course_Certificate_type  course_rating  \\\n",
       "0                      (ISC)²          SPECIALIZATION            4.7   \n",
       "1  University of Pennsylvania                  COURSE            4.7   \n",
       "2    Johns Hopkins University                  COURSE            4.5   \n",
       "3             Yale University                  COURSE            4.7   \n",
       "4   Indian School of Business                  COURSE            4.8   \n",
       "\n",
       "  course_difficulty course_students_enrolled  \n",
       "0          Beginner                     5.3k  \n",
       "1      Intermediate                      17k  \n",
       "2             Mixed                     130k  \n",
       "3             Mixed                      91k  \n",
       "4             Mixed                     320k  "
      ]
     },
     "execution_count": 10,
     "metadata": {},
     "output_type": "execute_result"
    }
   ],
   "source": [
    "df.head()"
   ]
  },
  {
   "cell_type": "code",
   "execution_count": 11,
   "metadata": {},
   "outputs": [
    {
     "data": {
      "text/plain": [
       "course_title                888\n",
       "course_organization         154\n",
       "course_Certificate_type       3\n",
       "course_rating                14\n",
       "course_difficulty             4\n",
       "course_students_enrolled    205\n",
       "dtype: int64"
      ]
     },
     "execution_count": 11,
     "metadata": {},
     "output_type": "execute_result"
    }
   ],
   "source": [
    "df.nunique()"
   ]
  },
  {
   "cell_type": "code",
   "execution_count": 12,
   "metadata": {},
   "outputs": [
    {
     "name": "stdout",
     "output_type": "stream",
     "text": [
      "No. of unique courses: 888\n"
     ]
    }
   ],
   "source": [
    "print(\"No. of unique courses:\",df['course_title'].nunique())"
   ]
  },
  {
   "cell_type": "code",
   "execution_count": 13,
   "metadata": {},
   "outputs": [
    {
     "name": "stdout",
     "output_type": "stream",
     "text": [
      "No. of unique course organization: 154\n"
     ]
    }
   ],
   "source": [
    "print(\"No. of unique course organization:\",df[\"course_organization\"].nunique())"
   ]
  },
  {
   "cell_type": "code",
   "execution_count": 14,
   "metadata": {},
   "outputs": [
    {
     "data": {
      "text/plain": [
       "Text(0.5, 1.0, 'count plot to visualize count of each category of course difficulty\\n')"
      ]
     },
     "execution_count": 14,
     "metadata": {},
     "output_type": "execute_result"
    },
    {
     "data": {
      "image/png": "[encoded data removed]",
      "text/plain": [
       "<Figure size 432x288 with 1 Axes>"
      ]
     },
     "metadata": {
      "needs_background": "light"
     },
     "output_type": "display_data"
    }
   ],
   "source": [
    "sns.countplot(x='course_difficulty',data=df)\n",
    "\n",
    "plt.title('count plot to visualize count of each category of course difficulty\\n')"
   ]
  },
  {
   "cell_type": "code",
   "execution_count": 15,
   "metadata": {},
   "outputs": [
    {
     "data": {
      "text/plain": [
       "Text(0.5, 1.0, 'count plot to visualize count of each category of corse certificate type\\n')"
      ]
     },
     "execution_count": 15,
     "metadata": {},
     "output_type": "execute_result"
    },
    {
     "data": {
      "image/png": "[encoded data removed]",
      "text/plain": [
       "<Figure size 432x288 with 1 Axes>"
      ]
     },
     "metadata": {
      "needs_background": "light"
     },
     "output_type": "display_data"
    }
   ],
   "source": [
    "sns.countplot(x='course_Certificate_type',data=df)\n",
    "\n",
    "plt.title('count plot to visualize count of each category of corse certificate type\\n')"
   ]
  },
  {
   "cell_type": "code",
   "execution_count": 16,
   "metadata": {},
   "outputs": [
    {
     "data": {
      "text/plain": [
       "Text(0.5, 1.0, 'count plot for count of courses based on the course rating attribute\\n')"
      ]
     },
     "execution_count": 16,
     "metadata": {},
     "output_type": "execute_result"
    },
    {
     "data": {
      "image/png": "[encoded data removed]",
      "text/plain": [
       "<Figure size 432x288 with 1 Axes>"
      ]
     },
     "metadata": {
      "needs_background": "light"
     },
     "output_type": "display_data"
    }
   ],
   "source": [
    "sns.countplot(x='course_rating',data=df)\n",
    "\n",
    "plt.title('count plot for count of courses based on the course rating attribute\\n')"
   ]
  },
  {
   "cell_type": "code",
   "execution_count": 17,
   "metadata": {},
   "outputs": [
    {
     "data": {
      "text/html": [
       "<div>\n",
       "<style scoped>\n",
       "    .dataframe tbody tr th:only-of-type {\n",
       "        vertical-align: middle;\n",
       "    }\n",
       "\n",
       "    .dataframe tbody tr th {\n",
       "        vertical-align: top;\n",
       "    }\n",
       "\n",
       "    .dataframe thead th {\n",
       "        text-align: right;\n",
       "    }\n",
       "</style>\n",
       "<table border=\"1\" class=\"dataframe\">\n",
       "  <thead>\n",
       "    <tr style=\"text-align: right;\">\n",
       "      <th></th>\n",
       "      <th>course_title</th>\n",
       "      <th>course_organization</th>\n",
       "      <th>course_Certificate_type</th>\n",
       "      <th>course_rating</th>\n",
       "      <th>course_difficulty</th>\n",
       "      <th>course_students_enrolled</th>\n",
       "    </tr>\n",
       "  </thead>\n",
       "  <tbody>\n",
       "    <tr>\n",
       "      <th>251</th>\n",
       "      <td>El Abogado del Futuro: Legaltech y la Transfor...</td>\n",
       "      <td>Universidad Austral</td>\n",
       "      <td>COURSE</td>\n",
       "      <td>5.0</td>\n",
       "      <td>Beginner</td>\n",
       "      <td>1.5k</td>\n",
       "    </tr>\n",
       "    <tr>\n",
       "      <th>432</th>\n",
       "      <td>Infectious Disease Modelling</td>\n",
       "      <td>Imperial College London</td>\n",
       "      <td>SPECIALIZATION</td>\n",
       "      <td>5.0</td>\n",
       "      <td>Intermediate</td>\n",
       "      <td>1.6k</td>\n",
       "    </tr>\n",
       "    <tr>\n",
       "      <th>754</th>\n",
       "      <td>Stories of Infection</td>\n",
       "      <td>Stanford University</td>\n",
       "      <td>COURSE</td>\n",
       "      <td>4.9</td>\n",
       "      <td>Intermediate</td>\n",
       "      <td>28k</td>\n",
       "    </tr>\n",
       "    <tr>\n",
       "      <th>290</th>\n",
       "      <td>Everyday Parenting: The ABCs of Child Rearing</td>\n",
       "      <td>Yale University</td>\n",
       "      <td>COURSE</td>\n",
       "      <td>4.9</td>\n",
       "      <td>Beginner</td>\n",
       "      <td>86k</td>\n",
       "    </tr>\n",
       "    <tr>\n",
       "      <th>98</th>\n",
       "      <td>Boosting Creativity for Innovation</td>\n",
       "      <td>HEC Paris</td>\n",
       "      <td>COURSE</td>\n",
       "      <td>4.9</td>\n",
       "      <td>Beginner</td>\n",
       "      <td>9.5k</td>\n",
       "    </tr>\n",
       "    <tr>\n",
       "      <th>99</th>\n",
       "      <td>Brand Management: Aligning Business, Brand and...</td>\n",
       "      <td>London Business School</td>\n",
       "      <td>COURSE</td>\n",
       "      <td>4.9</td>\n",
       "      <td>Beginner</td>\n",
       "      <td>57k</td>\n",
       "    </tr>\n",
       "    <tr>\n",
       "      <th>614</th>\n",
       "      <td>More Introduction to Financial Accounting</td>\n",
       "      <td>University of Pennsylvania</td>\n",
       "      <td>COURSE</td>\n",
       "      <td>4.9</td>\n",
       "      <td>Mixed</td>\n",
       "      <td>40k</td>\n",
       "    </tr>\n",
       "  </tbody>\n",
       "</table>\n",
       "</div>"
      ],
      "text/plain": [
       "                                          course_title  \\\n",
       "251  El Abogado del Futuro: Legaltech y la Transfor...   \n",
       "432                       Infectious Disease Modelling   \n",
       "754                               Stories of Infection   \n",
       "290      Everyday Parenting: The ABCs of Child Rearing   \n",
       "98                  Boosting Creativity for Innovation   \n",
       "99   Brand Management: Aligning Business, Brand and...   \n",
       "614          More Introduction to Financial Accounting   \n",
       "\n",
       "            course_organization course_Certificate_type  course_rating  \\\n",
       "251         Universidad Austral                  COURSE            5.0   \n",
       "432     Imperial College London          SPECIALIZATION            5.0   \n",
       "754         Stanford University                  COURSE            4.9   \n",
       "290             Yale University                  COURSE            4.9   \n",
       "98                    HEC Paris                  COURSE            4.9   \n",
       "99       London Business School                  COURSE            4.9   \n",
       "614  University of Pennsylvania                  COURSE            4.9   \n",
       "\n",
       "    course_difficulty course_students_enrolled  \n",
       "251          Beginner                     1.5k  \n",
       "432      Intermediate                     1.6k  \n",
       "754      Intermediate                      28k  \n",
       "290          Beginner                      86k  \n",
       "98           Beginner                     9.5k  \n",
       "99           Beginner                      57k  \n",
       "614             Mixed                      40k  "
      ]
     },
     "execution_count": 17,
     "metadata": {},
     "output_type": "execute_result"
    }
   ],
   "source": [
    "df.sort_values('course_rating',ascending=False).head(7)"
   ]
  },
  {
   "cell_type": "code",
   "execution_count": 18,
   "metadata": {},
   "outputs": [
    {
     "data": {
      "text/plain": [
       "Text(0, 0.5, '')"
      ]
     },
     "execution_count": 18,
     "metadata": {},
     "output_type": "execute_result"
    },
    {
     "data": {
      "image/png": "[encoded data removed]",
      "text/plain": [
       "<Figure size 432x288 with 1 Axes>"
      ]
     },
     "metadata": {},
     "output_type": "display_data"
    }
   ],
   "source": [
    "pie = df.groupby('course_Certificate_type').size()\n",
    "plt.figure()\n",
    "pie.plot(kind='pie', subplots=True, figsize=(8, 8))\n",
    "plt.title(\"Pie Chart of course_Certificate_type\")\n",
    "plt.ylabel(\"\")"
   ]
  },
  {
   "cell_type": "code",
   "execution_count": 19,
   "metadata": {},
   "outputs": [],
   "source": [
    "df['course_students_enrolled']=df['course_students_enrolled'].str.replace('k','*1000')\n",
    "df['course_students_enrolled']=df['course_students_enrolled'].str.replace('m','*1000000')\n",
    "df['course_students_enrolled']=df['course_students_enrolled'].map(lambda x:eval(x))"
   ]
  },
  {
   "cell_type": "code",
   "execution_count": 20,
   "metadata": {},
   "outputs": [
    {
     "data": {
      "text/html": [
       "<div>\n",
       "<style scoped>\n",
       "    .dataframe tbody tr th:only-of-type {\n",
       "        vertical-align: middle;\n",
       "    }\n",
       "\n",
       "    .dataframe tbody tr th {\n",
       "        vertical-align: top;\n",
       "    }\n",
       "\n",
       "    .dataframe thead th {\n",
       "        text-align: right;\n",
       "    }\n",
       "</style>\n",
       "<table border=\"1\" class=\"dataframe\">\n",
       "  <thead>\n",
       "    <tr style=\"text-align: right;\">\n",
       "      <th></th>\n",
       "      <th>course_title</th>\n",
       "      <th>course_organization</th>\n",
       "      <th>course_Certificate_type</th>\n",
       "      <th>course_rating</th>\n",
       "      <th>course_difficulty</th>\n",
       "      <th>course_students_enrolled</th>\n",
       "    </tr>\n",
       "  </thead>\n",
       "  <tbody>\n",
       "    <tr>\n",
       "      <th>0</th>\n",
       "      <td>(ISC)² Systems Security Certified Practitioner...</td>\n",
       "      <td>(ISC)²</td>\n",
       "      <td>SPECIALIZATION</td>\n",
       "      <td>4.7</td>\n",
       "      <td>Beginner</td>\n",
       "      <td>5300.0</td>\n",
       "    </tr>\n",
       "    <tr>\n",
       "      <th>1</th>\n",
       "      <td>A Crash Course in Causality:  Inferring Causal...</td>\n",
       "      <td>University of Pennsylvania</td>\n",
       "      <td>COURSE</td>\n",
       "      <td>4.7</td>\n",
       "      <td>Intermediate</td>\n",
       "      <td>17000.0</td>\n",
       "    </tr>\n",
       "    <tr>\n",
       "      <th>2</th>\n",
       "      <td>A Crash Course in Data Science</td>\n",
       "      <td>Johns Hopkins University</td>\n",
       "      <td>COURSE</td>\n",
       "      <td>4.5</td>\n",
       "      <td>Mixed</td>\n",
       "      <td>130000.0</td>\n",
       "    </tr>\n",
       "    <tr>\n",
       "      <th>3</th>\n",
       "      <td>A Law Student's Toolkit</td>\n",
       "      <td>Yale University</td>\n",
       "      <td>COURSE</td>\n",
       "      <td>4.7</td>\n",
       "      <td>Mixed</td>\n",
       "      <td>91000.0</td>\n",
       "    </tr>\n",
       "    <tr>\n",
       "      <th>4</th>\n",
       "      <td>A Life of Happiness and Fulfillment</td>\n",
       "      <td>Indian School of Business</td>\n",
       "      <td>COURSE</td>\n",
       "      <td>4.8</td>\n",
       "      <td>Mixed</td>\n",
       "      <td>320000.0</td>\n",
       "    </tr>\n",
       "  </tbody>\n",
       "</table>\n",
       "</div>"
      ],
      "text/plain": [
       "                                        course_title  \\\n",
       "0  (ISC)² Systems Security Certified Practitioner...   \n",
       "1  A Crash Course in Causality:  Inferring Causal...   \n",
       "2                     A Crash Course in Data Science   \n",
       "3                            A Law Student's Toolkit   \n",
       "4                A Life of Happiness and Fulfillment   \n",
       "\n",
       "          course_organization course_Certificate_type  course_rating  \\\n",
       "0                      (ISC)²          SPECIALIZATION            4.7   \n",
       "1  University of Pennsylvania                  COURSE            4.7   \n",
       "2    Johns Hopkins University                  COURSE            4.5   \n",
       "3             Yale University                  COURSE            4.7   \n",
       "4   Indian School of Business                  COURSE            4.8   \n",
       "\n",
       "  course_difficulty  course_students_enrolled  \n",
       "0          Beginner                    5300.0  \n",
       "1      Intermediate                   17000.0  \n",
       "2             Mixed                  130000.0  \n",
       "3             Mixed                   91000.0  \n",
       "4             Mixed                  320000.0  "
      ]
     },
     "execution_count": 20,
     "metadata": {},
     "output_type": "execute_result"
    }
   ],
   "source": [
    "df.head()"
   ]
  },
  {
   "cell_type": "code",
   "execution_count": 21,
   "metadata": {},
   "outputs": [
    {
     "data": {
      "text/html": [
       "<div>\n",
       "<style scoped>\n",
       "    .dataframe tbody tr th:only-of-type {\n",
       "        vertical-align: middle;\n",
       "    }\n",
       "\n",
       "    .dataframe tbody tr th {\n",
       "        vertical-align: top;\n",
       "    }\n",
       "\n",
       "    .dataframe thead th {\n",
       "        text-align: right;\n",
       "    }\n",
       "</style>\n",
       "<table border=\"1\" class=\"dataframe\">\n",
       "  <thead>\n",
       "    <tr style=\"text-align: right;\">\n",
       "      <th></th>\n",
       "      <th>course_title</th>\n",
       "      <th>course_organization</th>\n",
       "      <th>course_Certificate_type</th>\n",
       "      <th>course_rating</th>\n",
       "      <th>course_difficulty</th>\n",
       "      <th>course_students_enrolled</th>\n",
       "    </tr>\n",
       "  </thead>\n",
       "  <tbody>\n",
       "    <tr>\n",
       "      <th>251</th>\n",
       "      <td>El Abogado del Futuro: Legaltech y la Transfor...</td>\n",
       "      <td>Universidad Austral</td>\n",
       "      <td>COURSE</td>\n",
       "      <td>5.0</td>\n",
       "      <td>Beginner</td>\n",
       "      <td>1500.0</td>\n",
       "    </tr>\n",
       "    <tr>\n",
       "      <th>432</th>\n",
       "      <td>Infectious Disease Modelling</td>\n",
       "      <td>Imperial College London</td>\n",
       "      <td>SPECIALIZATION</td>\n",
       "      <td>5.0</td>\n",
       "      <td>Intermediate</td>\n",
       "      <td>1600.0</td>\n",
       "    </tr>\n",
       "    <tr>\n",
       "      <th>754</th>\n",
       "      <td>Stories of Infection</td>\n",
       "      <td>Stanford University</td>\n",
       "      <td>COURSE</td>\n",
       "      <td>4.9</td>\n",
       "      <td>Intermediate</td>\n",
       "      <td>28000.0</td>\n",
       "    </tr>\n",
       "    <tr>\n",
       "      <th>290</th>\n",
       "      <td>Everyday Parenting: The ABCs of Child Rearing</td>\n",
       "      <td>Yale University</td>\n",
       "      <td>COURSE</td>\n",
       "      <td>4.9</td>\n",
       "      <td>Beginner</td>\n",
       "      <td>86000.0</td>\n",
       "    </tr>\n",
       "    <tr>\n",
       "      <th>98</th>\n",
       "      <td>Boosting Creativity for Innovation</td>\n",
       "      <td>HEC Paris</td>\n",
       "      <td>COURSE</td>\n",
       "      <td>4.9</td>\n",
       "      <td>Beginner</td>\n",
       "      <td>9500.0</td>\n",
       "    </tr>\n",
       "    <tr>\n",
       "      <th>99</th>\n",
       "      <td>Brand Management: Aligning Business, Brand and...</td>\n",
       "      <td>London Business School</td>\n",
       "      <td>COURSE</td>\n",
       "      <td>4.9</td>\n",
       "      <td>Beginner</td>\n",
       "      <td>57000.0</td>\n",
       "    </tr>\n",
       "    <tr>\n",
       "      <th>614</th>\n",
       "      <td>More Introduction to Financial Accounting</td>\n",
       "      <td>University of Pennsylvania</td>\n",
       "      <td>COURSE</td>\n",
       "      <td>4.9</td>\n",
       "      <td>Mixed</td>\n",
       "      <td>40000.0</td>\n",
       "    </tr>\n",
       "  </tbody>\n",
       "</table>\n",
       "</div>"
      ],
      "text/plain": [
       "                                          course_title  \\\n",
       "251  El Abogado del Futuro: Legaltech y la Transfor...   \n",
       "432                       Infectious Disease Modelling   \n",
       "754                               Stories of Infection   \n",
       "290      Everyday Parenting: The ABCs of Child Rearing   \n",
       "98                  Boosting Creativity for Innovation   \n",
       "99   Brand Management: Aligning Business, Brand and...   \n",
       "614          More Introduction to Financial Accounting   \n",
       "\n",
       "            course_organization course_Certificate_type  course_rating  \\\n",
       "251         Universidad Austral                  COURSE            5.0   \n",
       "432     Imperial College London          SPECIALIZATION            5.0   \n",
       "754         Stanford University                  COURSE            4.9   \n",
       "290             Yale University                  COURSE            4.9   \n",
       "98                    HEC Paris                  COURSE            4.9   \n",
       "99       London Business School                  COURSE            4.9   \n",
       "614  University of Pennsylvania                  COURSE            4.9   \n",
       "\n",
       "    course_difficulty  course_students_enrolled  \n",
       "251          Beginner                    1500.0  \n",
       "432      Intermediate                    1600.0  \n",
       "754      Intermediate                   28000.0  \n",
       "290          Beginner                   86000.0  \n",
       "98           Beginner                    9500.0  \n",
       "99           Beginner                   57000.0  \n",
       "614             Mixed                   40000.0  "
      ]
     },
     "execution_count": 21,
     "metadata": {},
     "output_type": "execute_result"
    }
   ],
   "source": [
    "df.sort_values('course_rating',ascending=False).head(7)"
   ]
  },
  {
   "cell_type": "code",
   "execution_count": 22,
   "metadata": {},
   "outputs": [],
   "source": [
    "df['course_students_enrolled']=df['course_students_enrolled'].astype(int)"
   ]
  },
  {
   "cell_type": "code",
   "execution_count": 23,
   "metadata": {},
   "outputs": [
    {
     "data": {
      "text/plain": [
       "0      5300\n",
       "1     17000\n",
       "2    130000\n",
       "3     91000\n",
       "4    320000\n",
       "Name: course_students_enrolled, dtype: int32"
      ]
     },
     "execution_count": 23,
     "metadata": {},
     "output_type": "execute_result"
    }
   ],
   "source": [
    "df['course_students_enrolled'].head()"
   ]
  },
  {
   "cell_type": "code",
   "execution_count": 24,
   "metadata": {},
   "outputs": [
    {
     "data": {
      "text/plain": [
       "0    (ISC)² Systems Security Certified Practitioner...\n",
       "1    A Crash Course in Causality:  Inferring Causal...\n",
       "2                       A Crash Course in Data Science\n",
       "3                              A Law Student's Toolkit\n",
       "4                  A Life of Happiness and Fulfillment\n",
       "5    ADHD: Everyday Strategies for Elementary Students\n",
       "6                                      AI For Everyone\n",
       "7                             AI For Medical Treatment\n",
       "8                          AI Foundations for Everyone\n",
       "9                             AI for Medical Diagnosis\n",
       "Name: course_title, dtype: object"
      ]
     },
     "execution_count": 24,
     "metadata": {},
     "output_type": "execute_result"
    }
   ],
   "source": [
    "df['course_title'].head(10)"
   ]
  },
  {
   "cell_type": "code",
   "execution_count": 25,
   "metadata": {},
   "outputs": [],
   "source": [
    "ct=df.groupby(['course_title'])['course_title'].count()"
   ]
  },
  {
   "cell_type": "code",
   "execution_count": 26,
   "metadata": {},
   "outputs": [
    {
     "data": {
      "text/plain": [
       "course_title\n",
       "(ISC)² Systems Security Certified Practitioner (SSCP)                             1\n",
       "A Crash Course in Causality:  Inferring Causal Effects from Observational Data    1\n",
       "A Crash Course in Data Science                                                    1\n",
       "A Law Student's Toolkit                                                           1\n",
       "A Life of Happiness and Fulfillment                                               1\n",
       "                                                                                 ..\n",
       "Программирование на Python                                                        1\n",
       "Психолингвистика (Psycholinguistics)                                              1\n",
       "Разработка интерфейсов: вёрстка и JavaScript                                      1\n",
       "Русский как иностранный                                                           1\n",
       "Финансовые инструменты для частного инвестора                                     1\n",
       "Name: course_title, Length: 888, dtype: int64"
      ]
     },
     "execution_count": 26,
     "metadata": {},
     "output_type": "execute_result"
    }
   ],
   "source": [
    "ct"
   ]
  },
  {
   "cell_type": "code",
   "execution_count": 27,
   "metadata": {},
   "outputs": [
    {
     "data": {
      "text/plain": [
       "course_organization\n",
       "(ISC)²                                           3\n",
       "Amazon Web Services                              6\n",
       "American Institute of Business and Economics     1\n",
       "American Museum of Natural History               2\n",
       "Arizona State University                         7\n",
       "                                                ..\n",
       "Yonsei University                                4\n",
       "deeplearning.ai                                 16\n",
       "École Polytechnique                              1\n",
       "École Polytechnique Fédérale de Lausanne         4\n",
       "École des Ponts ParisTech                        1\n",
       "Name: course_organization, Length: 154, dtype: int64"
      ]
     },
     "execution_count": 27,
     "metadata": {},
     "output_type": "execute_result"
    }
   ],
   "source": [
    "co=df.groupby(['course_organization'])['course_organization'].count()\n",
    "co"
   ]
  },
  {
   "cell_type": "code",
   "execution_count": 28,
   "metadata": {},
   "outputs": [],
   "source": [
    "co=pd.DataFrame(co)\n",
    "co=co.rename(columns={\"course_organization\":\"count\"})"
   ]
  },
  {
   "cell_type": "code",
   "execution_count": 29,
   "metadata": {},
   "outputs": [],
   "source": [
    "co=co.sort_values(by=['count'], ascending=False)\n"
   ]
  },
  {
   "cell_type": "code",
   "execution_count": 30,
   "metadata": {},
   "outputs": [],
   "source": [
    "co=co.reset_index()"
   ]
  },
  {
   "cell_type": "code",
   "execution_count": 31,
   "metadata": {},
   "outputs": [],
   "source": [
    "co_top_10=co.head(10)"
   ]
  },
  {
   "cell_type": "code",
   "execution_count": 32,
   "metadata": {},
   "outputs": [
    {
     "data": {
      "text/html": [
       "<div>\n",
       "<style scoped>\n",
       "    .dataframe tbody tr th:only-of-type {\n",
       "        vertical-align: middle;\n",
       "    }\n",
       "\n",
       "    .dataframe tbody tr th {\n",
       "        vertical-align: top;\n",
       "    }\n",
       "\n",
       "    .dataframe thead th {\n",
       "        text-align: right;\n",
       "    }\n",
       "</style>\n",
       "<table border=\"1\" class=\"dataframe\">\n",
       "  <thead>\n",
       "    <tr style=\"text-align: right;\">\n",
       "      <th></th>\n",
       "      <th>course_organization</th>\n",
       "      <th>count</th>\n",
       "    </tr>\n",
       "  </thead>\n",
       "  <tbody>\n",
       "    <tr>\n",
       "      <th>0</th>\n",
       "      <td>University of Pennsylvania</td>\n",
       "      <td>59</td>\n",
       "    </tr>\n",
       "    <tr>\n",
       "      <th>1</th>\n",
       "      <td>University of Michigan</td>\n",
       "      <td>41</td>\n",
       "    </tr>\n",
       "    <tr>\n",
       "      <th>2</th>\n",
       "      <td>Google Cloud</td>\n",
       "      <td>34</td>\n",
       "    </tr>\n",
       "    <tr>\n",
       "      <th>3</th>\n",
       "      <td>Duke University</td>\n",
       "      <td>28</td>\n",
       "    </tr>\n",
       "    <tr>\n",
       "      <th>4</th>\n",
       "      <td>Johns Hopkins University</td>\n",
       "      <td>28</td>\n",
       "    </tr>\n",
       "    <tr>\n",
       "      <th>5</th>\n",
       "      <td>University of California, Irvine</td>\n",
       "      <td>27</td>\n",
       "    </tr>\n",
       "    <tr>\n",
       "      <th>6</th>\n",
       "      <td>University of Illinois at Urbana-Champaign</td>\n",
       "      <td>22</td>\n",
       "    </tr>\n",
       "    <tr>\n",
       "      <th>7</th>\n",
       "      <td>IBM</td>\n",
       "      <td>22</td>\n",
       "    </tr>\n",
       "    <tr>\n",
       "      <th>8</th>\n",
       "      <td>University of California, Davis</td>\n",
       "      <td>21</td>\n",
       "    </tr>\n",
       "    <tr>\n",
       "      <th>9</th>\n",
       "      <td>University of Colorado Boulder</td>\n",
       "      <td>19</td>\n",
       "    </tr>\n",
       "  </tbody>\n",
       "</table>\n",
       "</div>"
      ],
      "text/plain": [
       "                          course_organization  count\n",
       "0                  University of Pennsylvania     59\n",
       "1                      University of Michigan     41\n",
       "2                                Google Cloud     34\n",
       "3                             Duke University     28\n",
       "4                    Johns Hopkins University     28\n",
       "5            University of California, Irvine     27\n",
       "6  University of Illinois at Urbana-Champaign     22\n",
       "7                                         IBM     22\n",
       "8             University of California, Davis     21\n",
       "9              University of Colorado Boulder     19"
      ]
     },
     "execution_count": 32,
     "metadata": {},
     "output_type": "execute_result"
    }
   ],
   "source": [
    "co_top_10"
   ]
  },
  {
   "cell_type": "code",
   "execution_count": 33,
   "metadata": {},
   "outputs": [
    {
     "data": {
      "image/png": "[encoded data removed]",
      "text/plain": [
       "<Figure size 1152x864 with 1 Axes>"
      ]
     },
     "metadata": {
      "needs_background": "light"
     },
     "output_type": "display_data"
    }
   ],
   "source": [
    "fig=plt.figure(figsize=(16,12))\n",
    "ax=fig.add_axes([0,0,1,1])\n",
    "ax.bar(co_top_10['course_organization'],co_top_10['count'])\n",
    "plt.title(\"top 10 course orgainzation\")\n",
    "plt.show()"
   ]
  },
  {
   "cell_type": "code",
   "execution_count": 34,
   "metadata": {},
   "outputs": [],
   "source": [
    "ct_enrolled=df.loc[:,[\"course_title\", \"course_students_enrolled\"]]"
   ]
  },
  {
   "cell_type": "code",
   "execution_count": 35,
   "metadata": {},
   "outputs": [],
   "source": [
    "ct_enrolled=ct_enrolled.sort_values(by=['course_students_enrolled'],ascending=False)"
   ]
  },
  {
   "cell_type": "code",
   "execution_count": 36,
   "metadata": {
    "scrolled": true
   },
   "outputs": [
    {
     "data": {
      "text/html": [
       "<div>\n",
       "<style scoped>\n",
       "    .dataframe tbody tr th:only-of-type {\n",
       "        vertical-align: middle;\n",
       "    }\n",
       "\n",
       "    .dataframe tbody tr th {\n",
       "        vertical-align: top;\n",
       "    }\n",
       "\n",
       "    .dataframe thead th {\n",
       "        text-align: right;\n",
       "    }\n",
       "</style>\n",
       "<table border=\"1\" class=\"dataframe\">\n",
       "  <thead>\n",
       "    <tr style=\"text-align: right;\">\n",
       "      <th></th>\n",
       "      <th>course_title</th>\n",
       "      <th>course_students_enrolled</th>\n",
       "    </tr>\n",
       "  </thead>\n",
       "  <tbody>\n",
       "    <tr>\n",
       "      <th>564</th>\n",
       "      <td>Machine Learning</td>\n",
       "      <td>3200000</td>\n",
       "    </tr>\n",
       "    <tr>\n",
       "      <th>815</th>\n",
       "      <td>The Science of Well-Being</td>\n",
       "      <td>2500000</td>\n",
       "    </tr>\n",
       "    <tr>\n",
       "      <th>688</th>\n",
       "      <td>Python for Everybody</td>\n",
       "      <td>1500000</td>\n",
       "    </tr>\n",
       "    <tr>\n",
       "      <th>674</th>\n",
       "      <td>Programming for Everybody (Getting Started wit...</td>\n",
       "      <td>1300000</td>\n",
       "    </tr>\n",
       "    <tr>\n",
       "      <th>196</th>\n",
       "      <td>Data Science</td>\n",
       "      <td>830000</td>\n",
       "    </tr>\n",
       "    <tr>\n",
       "      <th>...</th>\n",
       "      <td>...</td>\n",
       "      <td>...</td>\n",
       "    </tr>\n",
       "    <tr>\n",
       "      <th>810</th>\n",
       "      <td>The Pronunciation of American English</td>\n",
       "      <td>1700</td>\n",
       "    </tr>\n",
       "    <tr>\n",
       "      <th>423</th>\n",
       "      <td>Identifying, Monitoring, and Analyzing Risk an...</td>\n",
       "      <td>1700</td>\n",
       "    </tr>\n",
       "    <tr>\n",
       "      <th>96</th>\n",
       "      <td>Blockchain Revolution in Financial Services</td>\n",
       "      <td>1600</td>\n",
       "    </tr>\n",
       "    <tr>\n",
       "      <th>432</th>\n",
       "      <td>Infectious Disease Modelling</td>\n",
       "      <td>1600</td>\n",
       "    </tr>\n",
       "    <tr>\n",
       "      <th>251</th>\n",
       "      <td>El Abogado del Futuro: Legaltech y la Transfor...</td>\n",
       "      <td>1500</td>\n",
       "    </tr>\n",
       "  </tbody>\n",
       "</table>\n",
       "<p>891 rows × 2 columns</p>\n",
       "</div>"
      ],
      "text/plain": [
       "                                          course_title  \\\n",
       "564                                   Machine Learning   \n",
       "815                          The Science of Well-Being   \n",
       "688                               Python for Everybody   \n",
       "674  Programming for Everybody (Getting Started wit...   \n",
       "196                                       Data Science   \n",
       "..                                                 ...   \n",
       "810              The Pronunciation of American English   \n",
       "423  Identifying, Monitoring, and Analyzing Risk an...   \n",
       "96         Blockchain Revolution in Financial Services   \n",
       "432                       Infectious Disease Modelling   \n",
       "251  El Abogado del Futuro: Legaltech y la Transfor...   \n",
       "\n",
       "     course_students_enrolled  \n",
       "564                   3200000  \n",
       "815                   2500000  \n",
       "688                   1500000  \n",
       "674                   1300000  \n",
       "196                    830000  \n",
       "..                        ...  \n",
       "810                      1700  \n",
       "423                      1700  \n",
       "96                       1600  \n",
       "432                      1600  \n",
       "251                      1500  \n",
       "\n",
       "[891 rows x 2 columns]"
      ]
     },
     "execution_count": 36,
     "metadata": {},
     "output_type": "execute_result"
    }
   ],
   "source": [
    "ct_enrolled"
   ]
  },
  {
   "cell_type": "code",
   "execution_count": 37,
   "metadata": {},
   "outputs": [
    {
     "data": {
      "text/html": [
       "<div>\n",
       "<style scoped>\n",
       "    .dataframe tbody tr th:only-of-type {\n",
       "        vertical-align: middle;\n",
       "    }\n",
       "\n",
       "    .dataframe tbody tr th {\n",
       "        vertical-align: top;\n",
       "    }\n",
       "\n",
       "    .dataframe thead th {\n",
       "        text-align: right;\n",
       "    }\n",
       "</style>\n",
       "<table border=\"1\" class=\"dataframe\">\n",
       "  <thead>\n",
       "    <tr style=\"text-align: right;\">\n",
       "      <th></th>\n",
       "      <th>course_title</th>\n",
       "      <th>course_students_enrolled</th>\n",
       "    </tr>\n",
       "  </thead>\n",
       "  <tbody>\n",
       "    <tr>\n",
       "      <th>810</th>\n",
       "      <td>The Pronunciation of American English</td>\n",
       "      <td>1700</td>\n",
       "    </tr>\n",
       "    <tr>\n",
       "      <th>423</th>\n",
       "      <td>Identifying, Monitoring, and Analyzing Risk an...</td>\n",
       "      <td>1700</td>\n",
       "    </tr>\n",
       "    <tr>\n",
       "      <th>96</th>\n",
       "      <td>Blockchain Revolution in Financial Services</td>\n",
       "      <td>1600</td>\n",
       "    </tr>\n",
       "    <tr>\n",
       "      <th>432</th>\n",
       "      <td>Infectious Disease Modelling</td>\n",
       "      <td>1600</td>\n",
       "    </tr>\n",
       "    <tr>\n",
       "      <th>251</th>\n",
       "      <td>El Abogado del Futuro: Legaltech y la Transfor...</td>\n",
       "      <td>1500</td>\n",
       "    </tr>\n",
       "  </tbody>\n",
       "</table>\n",
       "</div>"
      ],
      "text/plain": [
       "                                          course_title  \\\n",
       "810              The Pronunciation of American English   \n",
       "423  Identifying, Monitoring, and Analyzing Risk an...   \n",
       "96         Blockchain Revolution in Financial Services   \n",
       "432                       Infectious Disease Modelling   \n",
       "251  El Abogado del Futuro: Legaltech y la Transfor...   \n",
       "\n",
       "     course_students_enrolled  \n",
       "810                      1700  \n",
       "423                      1700  \n",
       "96                       1600  \n",
       "432                      1600  \n",
       "251                      1500  "
      ]
     },
     "execution_count": 37,
     "metadata": {},
     "output_type": "execute_result"
    }
   ],
   "source": [
    "ct_enrolled.tail()"
   ]
  },
  {
   "cell_type": "code",
   "execution_count": 38,
   "metadata": {},
   "outputs": [],
   "source": [
    "ct_enrolled_top10=ct_enrolled.head(10)"
   ]
  },
  {
   "cell_type": "code",
   "execution_count": 39,
   "metadata": {},
   "outputs": [
    {
     "data": {
      "text/html": [
       "<div>\n",
       "<style scoped>\n",
       "    .dataframe tbody tr th:only-of-type {\n",
       "        vertical-align: middle;\n",
       "    }\n",
       "\n",
       "    .dataframe tbody tr th {\n",
       "        vertical-align: top;\n",
       "    }\n",
       "\n",
       "    .dataframe thead th {\n",
       "        text-align: right;\n",
       "    }\n",
       "</style>\n",
       "<table border=\"1\" class=\"dataframe\">\n",
       "  <thead>\n",
       "    <tr style=\"text-align: right;\">\n",
       "      <th></th>\n",
       "      <th>course_title</th>\n",
       "      <th>course_students_enrolled</th>\n",
       "    </tr>\n",
       "  </thead>\n",
       "  <tbody>\n",
       "    <tr>\n",
       "      <th>564</th>\n",
       "      <td>Machine Learning</td>\n",
       "      <td>3200000</td>\n",
       "    </tr>\n",
       "    <tr>\n",
       "      <th>815</th>\n",
       "      <td>The Science of Well-Being</td>\n",
       "      <td>2500000</td>\n",
       "    </tr>\n",
       "    <tr>\n",
       "      <th>688</th>\n",
       "      <td>Python for Everybody</td>\n",
       "      <td>1500000</td>\n",
       "    </tr>\n",
       "    <tr>\n",
       "      <th>674</th>\n",
       "      <td>Programming for Everybody (Getting Started wit...</td>\n",
       "      <td>1300000</td>\n",
       "    </tr>\n",
       "    <tr>\n",
       "      <th>196</th>\n",
       "      <td>Data Science</td>\n",
       "      <td>830000</td>\n",
       "    </tr>\n",
       "    <tr>\n",
       "      <th>129</th>\n",
       "      <td>Career Success</td>\n",
       "      <td>790000</td>\n",
       "    </tr>\n",
       "    <tr>\n",
       "      <th>261</th>\n",
       "      <td>English for Career Development</td>\n",
       "      <td>760000</td>\n",
       "    </tr>\n",
       "    <tr>\n",
       "      <th>765</th>\n",
       "      <td>Successful Negotiation: Essential Strategies a...</td>\n",
       "      <td>750000</td>\n",
       "    </tr>\n",
       "    <tr>\n",
       "      <th>199</th>\n",
       "      <td>Data Science: Foundations using R</td>\n",
       "      <td>740000</td>\n",
       "    </tr>\n",
       "    <tr>\n",
       "      <th>211</th>\n",
       "      <td>Deep Learning</td>\n",
       "      <td>690000</td>\n",
       "    </tr>\n",
       "  </tbody>\n",
       "</table>\n",
       "</div>"
      ],
      "text/plain": [
       "                                          course_title  \\\n",
       "564                                   Machine Learning   \n",
       "815                          The Science of Well-Being   \n",
       "688                               Python for Everybody   \n",
       "674  Programming for Everybody (Getting Started wit...   \n",
       "196                                       Data Science   \n",
       "129                                     Career Success   \n",
       "261                     English for Career Development   \n",
       "765  Successful Negotiation: Essential Strategies a...   \n",
       "199                  Data Science: Foundations using R   \n",
       "211                                      Deep Learning   \n",
       "\n",
       "     course_students_enrolled  \n",
       "564                   3200000  \n",
       "815                   2500000  \n",
       "688                   1500000  \n",
       "674                   1300000  \n",
       "196                    830000  \n",
       "129                    790000  \n",
       "261                    760000  \n",
       "765                    750000  \n",
       "199                    740000  \n",
       "211                    690000  "
      ]
     },
     "execution_count": 39,
     "metadata": {},
     "output_type": "execute_result"
    }
   ],
   "source": [
    "ct_enrolled_top10"
   ]
  },
  {
   "cell_type": "code",
   "execution_count": 40,
   "metadata": {},
   "outputs": [
    {
     "data": {
      "image/png": "[encoded data removed]",
      "text/plain": [
       "<Figure size 1152x864 with 1 Axes>"
      ]
     },
     "metadata": {
      "needs_background": "light"
     },
     "output_type": "display_data"
    }
   ],
   "source": [
    "fig = plt.figure(figsize=(16, 12))\n",
    "ax = fig.add_axes([0,0,1,1])\n",
    "ax.bar(ct_enrolled_top10['course_title'], ct_enrolled_top10['course_students_enrolled'])\n",
    "plt.title('students enrolled in top 10 courses')\n",
    "plt.show()"
   ]
  },
  {
   "cell_type": "code",
   "execution_count": 44,
   "metadata": {},
   "outputs": [],
   "source": [
    "co_e=df.loc[:,['course_organization', 'course_students_enrolled']]\n",
    "co_e=pd.DataFrame(co_e.groupby('course_organization')['course_students_enrolled'].sum())"
   ]
  },
  {
   "cell_type": "code",
   "execution_count": 45,
   "metadata": {},
   "outputs": [
    {
     "data": {
      "text/html": [
       "<div>\n",
       "<style scoped>\n",
       "    .dataframe tbody tr th:only-of-type {\n",
       "        vertical-align: middle;\n",
       "    }\n",
       "\n",
       "    .dataframe tbody tr th {\n",
       "        vertical-align: top;\n",
       "    }\n",
       "\n",
       "    .dataframe thead th {\n",
       "        text-align: right;\n",
       "    }\n",
       "</style>\n",
       "<table border=\"1\" class=\"dataframe\">\n",
       "  <thead>\n",
       "    <tr style=\"text-align: right;\">\n",
       "      <th></th>\n",
       "      <th>course_students_enrolled</th>\n",
       "    </tr>\n",
       "    <tr>\n",
       "      <th>course_organization</th>\n",
       "      <th></th>\n",
       "    </tr>\n",
       "  </thead>\n",
       "  <tbody>\n",
       "    <tr>\n",
       "      <th>(ISC)²</th>\n",
       "      <td>9900</td>\n",
       "    </tr>\n",
       "    <tr>\n",
       "      <th>Amazon Web Services</th>\n",
       "      <td>364000</td>\n",
       "    </tr>\n",
       "    <tr>\n",
       "      <th>American Institute of Business and Economics</th>\n",
       "      <td>11000</td>\n",
       "    </tr>\n",
       "    <tr>\n",
       "      <th>American Museum of Natural History</th>\n",
       "      <td>30000</td>\n",
       "    </tr>\n",
       "    <tr>\n",
       "      <th>Arizona State University</th>\n",
       "      <td>589500</td>\n",
       "    </tr>\n",
       "    <tr>\n",
       "      <th>...</th>\n",
       "      <td>...</td>\n",
       "    </tr>\n",
       "    <tr>\n",
       "      <th>Yonsei University</th>\n",
       "      <td>563000</td>\n",
       "    </tr>\n",
       "    <tr>\n",
       "      <th>deeplearning.ai</th>\n",
       "      <td>2863400</td>\n",
       "    </tr>\n",
       "    <tr>\n",
       "      <th>École Polytechnique</th>\n",
       "      <td>190000</td>\n",
       "    </tr>\n",
       "    <tr>\n",
       "      <th>École Polytechnique Fédérale de Lausanne</th>\n",
       "      <td>471000</td>\n",
       "    </tr>\n",
       "    <tr>\n",
       "      <th>École des Ponts ParisTech</th>\n",
       "      <td>14000</td>\n",
       "    </tr>\n",
       "  </tbody>\n",
       "</table>\n",
       "<p>154 rows × 1 columns</p>\n",
       "</div>"
      ],
      "text/plain": [
       "                                              course_students_enrolled\n",
       "course_organization                                                   \n",
       "(ISC)²                                                            9900\n",
       "Amazon Web Services                                             364000\n",
       "American Institute of Business and Economics                     11000\n",
       "American Museum of Natural History                               30000\n",
       "Arizona State University                                        589500\n",
       "...                                                                ...\n",
       "Yonsei University                                               563000\n",
       "deeplearning.ai                                                2863400\n",
       "École Polytechnique                                             190000\n",
       "École Polytechnique Fédérale de Lausanne                        471000\n",
       "École des Ponts ParisTech                                        14000\n",
       "\n",
       "[154 rows x 1 columns]"
      ]
     },
     "execution_count": 45,
     "metadata": {},
     "output_type": "execute_result"
    }
   ],
   "source": [
    "co_e"
   ]
  },
  {
   "cell_type": "code",
   "execution_count": 48,
   "metadata": {},
   "outputs": [],
   "source": [
    "co_e=co_e.reset_index()"
   ]
  },
  {
   "cell_type": "code",
   "execution_count": 50,
   "metadata": {},
   "outputs": [],
   "source": [
    "co_e=co_e.sort_values(by=['course_students_enrolled'], ascending=False)\n",
    "co_e_top10=co_e.head(10)"
   ]
  },
  {
   "cell_type": "code",
   "execution_count": 51,
   "metadata": {},
   "outputs": [
    {
     "data": {
      "text/html": [
       "<div>\n",
       "<style scoped>\n",
       "    .dataframe tbody tr th:only-of-type {\n",
       "        vertical-align: middle;\n",
       "    }\n",
       "\n",
       "    .dataframe tbody tr th {\n",
       "        vertical-align: top;\n",
       "    }\n",
       "\n",
       "    .dataframe thead th {\n",
       "        text-align: right;\n",
       "    }\n",
       "</style>\n",
       "<table border=\"1\" class=\"dataframe\">\n",
       "  <thead>\n",
       "    <tr style=\"text-align: right;\">\n",
       "      <th></th>\n",
       "      <th>course_organization</th>\n",
       "      <th>course_students_enrolled</th>\n",
       "    </tr>\n",
       "  </thead>\n",
       "  <tbody>\n",
       "    <tr>\n",
       "      <th>135</th>\n",
       "      <td>University of Michigan</td>\n",
       "      <td>7437700</td>\n",
       "    </tr>\n",
       "    <tr>\n",
       "      <th>138</th>\n",
       "      <td>University of Pennsylvania</td>\n",
       "      <td>5501300</td>\n",
       "    </tr>\n",
       "    <tr>\n",
       "      <th>85</th>\n",
       "      <td>Stanford University</td>\n",
       "      <td>4854000</td>\n",
       "    </tr>\n",
       "    <tr>\n",
       "      <th>123</th>\n",
       "      <td>University of California, Irvine</td>\n",
       "      <td>4326000</td>\n",
       "    </tr>\n",
       "    <tr>\n",
       "      <th>48</th>\n",
       "      <td>Johns Hopkins University</td>\n",
       "      <td>4298900</td>\n",
       "    </tr>\n",
       "    <tr>\n",
       "      <th>20</th>\n",
       "      <td>Duke University</td>\n",
       "      <td>3967600</td>\n",
       "    </tr>\n",
       "    <tr>\n",
       "      <th>148</th>\n",
       "      <td>Yale University</td>\n",
       "      <td>3952000</td>\n",
       "    </tr>\n",
       "    <tr>\n",
       "      <th>38</th>\n",
       "      <td>IBM</td>\n",
       "      <td>2956400</td>\n",
       "    </tr>\n",
       "    <tr>\n",
       "      <th>150</th>\n",
       "      <td>deeplearning.ai</td>\n",
       "      <td>2863400</td>\n",
       "    </tr>\n",
       "    <tr>\n",
       "      <th>34</th>\n",
       "      <td>Google Cloud</td>\n",
       "      <td>2604300</td>\n",
       "    </tr>\n",
       "  </tbody>\n",
       "</table>\n",
       "</div>"
      ],
      "text/plain": [
       "                  course_organization  course_students_enrolled\n",
       "135            University of Michigan                   7437700\n",
       "138        University of Pennsylvania                   5501300\n",
       "85                Stanford University                   4854000\n",
       "123  University of California, Irvine                   4326000\n",
       "48           Johns Hopkins University                   4298900\n",
       "20                    Duke University                   3967600\n",
       "148                   Yale University                   3952000\n",
       "38                                IBM                   2956400\n",
       "150                   deeplearning.ai                   2863400\n",
       "34                       Google Cloud                   2604300"
      ]
     },
     "execution_count": 51,
     "metadata": {},
     "output_type": "execute_result"
    }
   ],
   "source": [
    "co_e_top10"
   ]
  },
  {
   "cell_type": "code",
   "execution_count": 52,
   "metadata": {},
   "outputs": [
    {
     "data": {
      "image/png": "[encoded data removed]",
      "text/plain": [
       "<Figure size 1152x864 with 1 Axes>"
      ]
     },
     "metadata": {
      "needs_background": "light"
     },
     "output_type": "display_data"
    }
   ],
   "source": [
    "fig = plt.figure(figsize=(16, 12))\n",
    "ax = fig.add_axes([0,0,1,1])\n",
    "ax.bar(co_e_top10['course_organization'], co_e_top10['course_students_enrolled'])\n",
    "plt.title(\"students enrolled in top 10 organization\")\n",
    "plt.show()"
   ]
  },
  {
   "cell_type": "code",
   "execution_count": 53,
   "metadata": {},
   "outputs": [
    {
     "data": {
      "text/plain": [
       "Text(0, 0.5, 'Enrolled')"
      ]
     },
     "execution_count": 53,
     "metadata": {},
     "output_type": "execute_result"
    },
    {
     "data": {
      "image/png": "[encoded data removed]",
      "text/plain": [
       "<Figure size 1152x864 with 1 Axes>"
      ]
     },
     "metadata": {
      "needs_background": "light"
     },
     "output_type": "display_data"
    }
   ],
   "source": [
    "df.groupby('course_Certificate_type')['course_students_enrolled'].count().plot(kind='bar', grid=True,\n",
    "    figsize=(16, 12)).set_ylabel('Enrolled')"
   ]
  },
  {
   "cell_type": "code",
   "execution_count": 54,
   "metadata": {},
   "outputs": [
    {
     "data": {
      "text/plain": [
       "Text(0, 0.5, 'Enrolled')"
      ]
     },
     "execution_count": 54,
     "metadata": {},
     "output_type": "execute_result"
    },
    {
     "data": {
      "image/png": "[encoded data removed]",
      "text/plain": [
       "<Figure size 1152x864 with 1 Axes>"
      ]
     },
     "metadata": {
      "needs_background": "light"
     },
     "output_type": "display_data"
    }
   ],
   "source": [
    "df.groupby('course_rating')['course_students_enrolled'].count().plot(kind='bar', grid=True,\n",
    "    figsize=(16, 12)).set_ylabel('Enrolled')"
   ]
  },
  {
   "cell_type": "code",
   "execution_count": 55,
   "metadata": {},
   "outputs": [
    {
     "data": {
      "text/plain": [
       "Text(0, 0.5, 'Enrolled')"
      ]
     },
     "execution_count": 55,
     "metadata": {},
     "output_type": "execute_result"
    },
    {
     "data": {
      "image/png": "[encoded data removed]",
      "text/plain": [
       "<Figure size 1152x864 with 1 Axes>"
      ]
     },
     "metadata": {
      "needs_background": "light"
     },
     "output_type": "display_data"
    }
   ],
   "source": [
    "df.groupby('course_difficulty')['course_students_enrolled'].count().plot(kind='bar', grid=True,\n",
    "    figsize=(16, 12)).set_ylabel('Enrolled')"
   ]
  },
  {
   "cell_type": "code",
   "execution_count": null,
   "metadata": {},
   "outputs": [],
   "source": []
  }
 ],
 "metadata": {
  "kernelspec": {
   "display_name": "Python 3",
   "language": "python",
   "name": "python3"
  },
  "language_info": {
   "codemirror_mode": {
    "name": "ipython",
    "version": 3
   },
   "file_extension": ".py",
   "mimetype": "text/x-python",
   "name": "python",
   "nbconvert_exporter": "python",
   "pygments_lexer": "ipython3",
   "version": "3.8.3"
  }
 },
 "nbformat": 4,
 "nbformat_minor": 4
}
